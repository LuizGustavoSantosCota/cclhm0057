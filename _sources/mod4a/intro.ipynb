{
 "cells": [
  {
   "cell_type": "markdown",
   "metadata": {},
   "source": [
    "# 4. Formação da sociedade colonials espanhola (XVI-XVIII)\n",
    "\n",
    "| Tipo de atividade | Quantidade | CH   |\n",
    "| ----------------- | ---------- | ---- |\n",
    "| | | |\n",
    "| | | |\n",
    "| | | |\n",
    "\n",
    "* Carga horária total: 14h\n",
    "\n",
    "## Temas\n",
    "\n",
    "1. "
   ]
  }
 ],
 "metadata": {
  "language_info": {
   "name": "python"
  }
 },
 "nbformat": 4,
 "nbformat_minor": 2
}
