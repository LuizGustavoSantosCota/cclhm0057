{
 "cells": [
  {
   "cell_type": "markdown",
   "metadata": {},
   "source": [
    "# Módulo 2. Sociedades autóctones americanas antes do séc. XVI"
   ]
  },
  {
   "cell_type": "markdown",
   "metadata": {},
   "source": [
    "| Tipo de atividade | Quantidade        | CH   |\n",
    "| ----------------- | ----------------- | ---- |\n",
    "| | | |\n",
    "| | | |\n",
    "| | | |\n",
    "\n",
    "* Carga horária total: 16h\n",
    "\n",
    "## Temas\n",
    "\n",
    "1. \n"
   ]
  }
 ],
 "metadata": {
  "language_info": {
   "name": "python"
  }
 },
 "nbformat": 4,
 "nbformat_minor": 2
}
