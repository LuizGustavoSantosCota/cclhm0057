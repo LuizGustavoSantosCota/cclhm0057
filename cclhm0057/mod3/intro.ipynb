{
 "cells": [
  {
   "cell_type": "markdown",
   "metadata": {},
   "source": [
    "# 3. Conquistas e Resistências (XVI-XVII)\n",
    "\n",
    "| Tipo de atividade     | Quantidade | CH   |\n",
    "| --------------------- | ---------- | ---- |\n",
    "| | | |\n",
    "| | | |\n",
    "| | | |\n",
    "\n",
    "* Carga horária total: 7h\n",
    "\n",
    "## Temas\n",
    "\n",
    "1. \n"
   ]
  }
 ],
 "metadata": {
  "language_info": {
   "name": "python"
  }
 },
 "nbformat": 4,
 "nbformat_minor": 2
}
